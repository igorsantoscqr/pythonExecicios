{
 "cells": [
  {
   "cell_type": "markdown",
   "metadata": {},
   "source": [
    "### Parte 1"
   ]
  },
  {
   "cell_type": "code",
   "execution_count": 22,
   "metadata": {},
   "outputs": [],
   "source": [
    "metaDeVendas = 50000\n",
    "qtdVendas = 45300"
   ]
  },
  {
   "cell_type": "code",
   "execution_count": 23,
   "metadata": {},
   "outputs": [],
   "source": [
    "if qtdVendas > metaDeVendas:\n",
    "    print(f'Batemos a meta de vendas de Iphone, vendemos {qtdVendas} unidades.')"
   ]
  },
  {
   "cell_type": "markdown",
   "metadata": {},
   "source": [
    "### Parte 2"
   ]
  },
  {
   "cell_type": "code",
   "execution_count": 24,
   "metadata": {},
   "outputs": [
    {
     "name": "stdout",
     "output_type": "stream",
     "text": [
      "Infelizmente nao batemos a meta, vendemos 45300 unidades. A meta era de 50000 unidades.\n"
     ]
    }
   ],
   "source": [
    "if qtdVendas > metaDeVendas:\n",
    "    print(f'Batemos a meta de vendas de Iphone, vendemos {qtdVendas} unidades.')\n",
    "else:\n",
    "    print(f'Infelizmente nao batemos a meta, vendemos {qtdVendas} unidades. A meta era de {metaDeVendas} unidades.')"
   ]
  },
  {
   "cell_type": "markdown",
   "metadata": {},
   "source": [
    "### Parte 3"
   ]
  },
  {
   "cell_type": "code",
   "execution_count": 25,
   "metadata": {},
   "outputs": [
    {
     "name": "stdout",
     "output_type": "stream",
     "text": [
      "Voce vendeu mais que o dobro da meta. A meta era de 3000, voce vendeu 8000. Seu bonus será de 560.0\n"
     ]
    }
   ],
   "source": [
    "meta = 3000\n",
    "vendeu = 8000\n",
    "bonus = 0\n",
    "\n",
    "if vendeu > meta:\n",
    "    if vendeu > meta * 2:\n",
    "        bonus = 0.07 * vendeu\n",
    "        print(f'Voce vendeu mais que o dobro da meta. A meta era de {meta}, voce vendeu {vendeu}. Seu bonus será de {bonus}')\n",
    "    else:\n",
    "        bonus = 0.03 * vendeu\n",
    "        print(f'Voce bateu a meta. A meta era de {meta}, voce vendeu {vendeu}. Seu bonus será de {bonus}')\n",
    "else:\n",
    "    bonus = 0\n",
    "    print(f'Voce nao bateu a meta. A meta era de {meta}, voce vendeu {vendeu}. Seu bonus será de {bonus}')"
   ]
  },
  {
   "cell_type": "markdown",
   "metadata": {},
   "source": [
    "### Parte 4"
   ]
  },
  {
   "cell_type": "code",
   "execution_count": 29,
   "metadata": {},
   "outputs": [
    {
     "name": "stdout",
     "output_type": "stream",
     "text": [
      "O bonus foi de 0\n"
     ]
    }
   ],
   "source": [
    "metaFuncionario4 = 1000\n",
    "metaLoja4 = 5000\n",
    "vendaFuncionario4 = 4000\n",
    "vendaLoja4 = 3000\n",
    "bonus4 = 0\n",
    "\n",
    "if vendaFuncionario4 > metaFuncionario4 and vendaLoja4 > metaLoja4:\n",
    "    bonus4 = 0.03 * vendaFuncionario4\n",
    "    print(f'Seu bonus foi de {bonus4}')\n",
    "else:\n",
    "    print(f'O bonus foi de {bonus4}')"
   ]
  },
  {
   "cell_type": "markdown",
   "metadata": {},
   "source": [
    "### Parte 5"
   ]
  },
  {
   "cell_type": "code",
   "execution_count": 32,
   "metadata": {},
   "outputs": [
    {
     "name": "stdout",
     "output_type": "stream",
     "text": [
      "O bonus foi de 0\n"
     ]
    }
   ],
   "source": [
    "metaFuncionario5 = 1000\n",
    "metaLoja5 = 5000\n",
    "vendaFuncionario5 = 500\n",
    "vendaLoja5 = 3000\n",
    "bonus5 = 0\n",
    "notaFuncionario5 = 9\n",
    "\n",
    "if vendaFuncionario5 > metaFuncionario5 and vendaLoja5 > metaLoja5 or notaFuncionario5 >= 9:\n",
    "    bonus5 = 0.03 * vendaFuncionario5\n",
    "    print(f'Seu bonus foi de {bonus5}')\n",
    "else:\n",
    "    print(f'O bonus foi de {bonus5}')"
   ]
  },
  {
   "cell_type": "markdown",
   "metadata": {},
   "source": [
    "### Parte 6"
   ]
  },
  {
   "cell_type": "code",
   "execution_count": 38,
   "metadata": {},
   "outputs": [
    {
     "name": "stdout",
     "output_type": "stream",
     "text": [
      "O funcionario 1 ganhou 449.84999999999997.\n"
     ]
    }
   ],
   "source": [
    "vendasFuncionario1_6 = 2999\n",
    "bonus6 = 0\n",
    "\n",
    "if vendasFuncionario1_6 >= 1000:\n",
    "     bonus6 = vendasFuncionario1_6 * 0.15\n",
    "elif vendasFuncionario1_6 >= 2000:\n",
    "    bonus6 = vendasFuncionario1_6 * 0.10\n",
    "else:\n",
    "    bonus6 = 0\n",
    "\n",
    "print(f'O funcionario 1 ganhou {bonus6}.')"
   ]
  },
  {
   "cell_type": "markdown",
   "metadata": {},
   "source": [
    "### Parte 7"
   ]
  },
  {
   "cell_type": "code",
   "execution_count": 47,
   "metadata": {},
   "outputs": [
    {
     "name": "stdout",
     "output_type": "stream",
     "text": [
      "Insira corretamente os dados\n"
     ]
    }
   ],
   "source": [
    "#Criando um mini sistema de controle de estoque\n",
    "nomeProduto7 = input('Informe o nome do produto.')\n",
    "categoriaProduto7 = input('Informe a categoria do produto')\n",
    "qtdDoProduto7 = input('Informe a quantidade do produto.')\n",
    "\n",
    "if nomeProduto7 and categoriaProduto7 and qtdDoProduto7:\n",
    "    qtdDoProduto7 = int(qtdDoProduto7)\n",
    "    \n",
    "    if categoriaProduto7 == 'alimentos':\n",
    "        if qtdDoProduto7 < 50:\n",
    "            print(f'Produto com nivel baixo no estoque. Fazer mais pedidos, temos apenas {qtdDoProduto7} no estoque.')\n",
    "    elif categoriaProduto7 == 'bebidas':\n",
    "        if qtdDoProduto7 < 75:\n",
    "            print(f'Produto com nivel baixo no estoque. Fazer mais pedidos, temos apenas {qtdDoProduto7} no estoque.')\n",
    "    elif categoriaProduto7 == 'limpeza':\n",
    "        if qtdDoProduto7 < 30:\n",
    "            print(f'Produto com nivel baixo no estoque. Fazer mais pedidos, temos apenas {qtdDoProduto7} no estoque.')\n",
    "    else:\n",
    "        print('Categoria invalida.')\n",
    "else:\n",
    "    print('Insira corretamente os dados')"
   ]
  }
 ],
 "metadata": {
  "kernelspec": {
   "display_name": ".venv",
   "language": "python",
   "name": "python3"
  },
  "language_info": {
   "codemirror_mode": {
    "name": "ipython",
    "version": 3
   },
   "file_extension": ".py",
   "mimetype": "text/x-python",
   "name": "python",
   "nbconvert_exporter": "python",
   "pygments_lexer": "ipython3",
   "version": "3.12.1"
  }
 },
 "nbformat": 4,
 "nbformat_minor": 2
}
