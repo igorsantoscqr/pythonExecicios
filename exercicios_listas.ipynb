{
 "cells": [
  {
   "cell_type": "markdown",
   "metadata": {},
   "source": [
    "### Parte 1"
   ]
  },
  {
   "cell_type": "code",
   "execution_count": 8,
   "metadata": {},
   "outputs": [],
   "source": [
    "produtos = ['geladeira','sofa','tv','radio']\n",
    "estoque = [100,20,30,7]"
   ]
  },
  {
   "cell_type": "code",
   "execution_count": 14,
   "metadata": {},
   "outputs": [
    {
     "name": "stdout",
     "output_type": "stream",
     "text": [
      "Produto tvs nao encontrado no estoque.\n"
     ]
    }
   ],
   "source": [
    "produto = input('Informe o nome do produto.')\n",
    "\n",
    "if produto in produtos:\n",
    "    i = produtos.index(produto)\n",
    "    qtd_estoque = estoque[i]\n",
    "    print(f'A quantidade de {produtos[i]} no estoque é de {estoque[i]}')\n",
    "else:\n",
    "    print(f'Produto {produto} nao encontrado no estoque.')"
   ]
  },
  {
   "cell_type": "markdown",
   "metadata": {},
   "source": [
    "### Parte 2 Adicionar e Remover itens de uma lista"
   ]
  },
  {
   "cell_type": "code",
   "execution_count": 18,
   "metadata": {},
   "outputs": [
    {
     "name": "stdout",
     "output_type": "stream",
     "text": [
      "['apple watch', 'air pods', 'ipod']\n",
      "['apple watch', 'air pods', 'ipod', 'iphone 15']\n"
     ]
    }
   ],
   "source": [
    "produtos2 = ['apple watch', 'iphone 14', 'air pods', 'ipod']\n",
    "\n",
    "produto_remove2 = input('Item que sera removido')\n",
    "\n",
    "if produto_remove2 in produtos2:\n",
    "    produtos2.remove(produto_remove2)\n",
    "    print(produtos2)\n",
    "else:\n",
    "    print('Produto nao encontrado.')\n",
    "\n",
    "produto_add2 = input('Produto que sera adicionado')    \n",
    "\n",
    "produtos2.append(produto_add2)\n",
    "print(produtos2)\n"
   ]
  },
  {
   "cell_type": "markdown",
   "metadata": {},
   "source": [
    "### Parte 3: Tratar erros"
   ]
  },
  {
   "cell_type": "code",
   "execution_count": 21,
   "metadata": {},
   "outputs": [
    {
     "name": "stdout",
     "output_type": "stream",
     "text": [
      "['air pods', 'ipod', 'iphone 15']\n"
     ]
    }
   ],
   "source": [
    "try:\n",
    "    produtos2.remove('apple watch')\n",
    "    print(produtos2)\n",
    "except:\n",
    "    print('applewatch nao existe na lista de produtos')"
   ]
  },
  {
   "cell_type": "markdown",
   "metadata": {},
   "source": [
    "### Parte 4: Exercicios"
   ]
  },
  {
   "cell_type": "markdown",
   "metadata": {},
   "source": [
    "#### 1. Faturamento do melhor e do pior mês do ano\n",
    "Qual foi o valor de vendas do melhor mês do ano? E valor do pior mês do ano?"
   ]
  },
  {
   "cell_type": "code",
   "execution_count": 59,
   "metadata": {},
   "outputs": [
    {
     "name": "stdout",
     "output_type": "stream",
     "text": [
      "O melhor mês foi nov com 49051 vendas e o pior mês foi dez com 9650 vendas.\n",
      "O faturamento total foi de 261486\n",
      "O melhor mês representa 18.8%\n",
      "[9650, 15555, 15870, 17540, 17750, 19850, 19900, 20120, 22200, 25000, 29000, 49051]\n",
      "Os 3 maiores faturamentos sao [49051, 29000, 25000]\n"
     ]
    }
   ],
   "source": [
    "meses = ['jan','fev','mar','abr','mai','jun','jul','ago','set','out','nov','dez']\n",
    "vendas_1sem = [25000, 29000, 22200, 17750, 15870, 19900]\n",
    "vendas_2sem = [19850, 20120, 17540, 15555, 49051, 9650]\n",
    "\n",
    "#Juntando os dois semestres\n",
    "vendas_ano = vendas_1sem + vendas_2sem\n",
    "\n",
    "#Melhor Mês\n",
    "valor_melhor_mes = max(vendas_ano)\n",
    "index_melhor_mes = vendas_ano.index(valor_melhor_mes)\n",
    "melhor_mes = meses[index_melhor_mes]\n",
    "\n",
    "#Pior Mês\n",
    "valor_pior_mes = min(vendas_ano)\n",
    "index_pior_mes = vendas_ano.index(valor_pior_mes)\n",
    "pior_mes = meses[index_pior_mes]\n",
    "\n",
    "print(f'O melhor mês foi {melhor_mes} com {valor_melhor_mes} vendas e o pior mês foi {pior_mes} com {valor_pior_mes} vendas.')\n",
    "\n",
    "#Faturamento Total\n",
    "faturamento_total = sum(vendas_ano)\n",
    "print(f'O faturamento total foi de {faturamento_total}')\n",
    "\n",
    "#Percentual\n",
    "percentual = valor_melhor_mes / faturamento_total\n",
    "print(f'O melhor mês representa {percentual:.1%}')\n",
    "\n",
    "#Lista com Top 3 valores de vendas\n",
    "ord_vendas = vendas_ano.copy()\n",
    "ord_vendas.sort()\n",
    "print(ord_vendas)\n",
    "top3 = []\n",
    "\n",
    "top3.append(ord_vendas.pop())\n",
    "top3.append(ord_vendas.pop())\n",
    "top3.append(ord_vendas.pop())\n",
    "\n",
    "print(f'Os 3 maiores faturamentos sao {top3}')\n"
   ]
  },
  {
   "cell_type": "markdown",
   "metadata": {},
   "source": [
    "### Parte 5 Listas de Listas"
   ]
  },
  {
   "cell_type": "code",
   "execution_count": 71,
   "metadata": {},
   "outputs": [
    {
     "name": "stdout",
     "output_type": "stream",
     "text": [
      "300\n",
      "1000\n",
      "1710\n",
      "[[100, 50], [300, 500], [50, 1000], [900, 10]]\n",
      "[[100, 50, 10], [300, 500, 15], [50, 1000, 6], [900, 10, 70]]\n"
     ]
    }
   ],
   "source": [
    "vendedores = ['Lira', 'Joao','Diego', 'Alon']\n",
    "produtos5 = ['ipad', 'iphone']\n",
    "vendas5 = [\n",
    "    [100, 200],\n",
    "    [300, 500],\n",
    "    [50, 1000],\n",
    "    [900, 10],\n",
    "    ]\n",
    "\n",
    "#Quanto Joao vendeu de Ipad?\n",
    "vendas_ipad_joao = vendas5[1][0]\n",
    "print(vendas_ipad_joao)\n",
    "\n",
    "#Quanto Diego vendeu de Iphone?\n",
    "vendas_iphone_Diego = vendas5[2][1]\n",
    "print(vendas_iphone_Diego)\n",
    "\n",
    "#Qual foi o total de vendas de iphone?\n",
    "vendas_totais_de_iphone5 = vendas5[0][1] + vendas5[1][1] + vendas5[2][1] + vendas5[3][1]\n",
    "print(vendas_totais_de_iphone5)\n",
    "\n",
    "#Se Lira fez apenas 50 vendas de iphone, como modificar?\n",
    "vendas5[0][1] = 50\n",
    "print(vendas5)\n",
    "\n",
    "#E se agora eu tenho um novo produto 'Mac', como eu adiciono os valores? [10, 15, 6, 70]\n",
    "vendas5[0].append(10)\n",
    "vendas5[1].append(15)\n",
    "vendas5[2].append(6)\n",
    "vendas5[3].append(70)\n",
    "print(vendas5)\n"
   ]
  }
 ],
 "metadata": {
  "kernelspec": {
   "display_name": ".venv",
   "language": "python",
   "name": "python3"
  },
  "language_info": {
   "codemirror_mode": {
    "name": "ipython",
    "version": 3
   },
   "file_extension": ".py",
   "mimetype": "text/x-python",
   "name": "python",
   "nbconvert_exporter": "python",
   "pygments_lexer": "ipython3",
   "version": "3.12.1"
  }
 },
 "nbformat": 4,
 "nbformat_minor": 2
}
