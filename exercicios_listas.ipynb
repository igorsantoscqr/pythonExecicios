{
 "cells": [
  {
   "cell_type": "markdown",
   "metadata": {},
   "source": [
    "### Parte 1"
   ]
  },
  {
   "cell_type": "code",
   "execution_count": 8,
   "metadata": {},
   "outputs": [],
   "source": [
    "produtos = ['geladeira','sofa','tv','radio']\n",
    "estoque = [100,20,30,7]"
   ]
  },
  {
   "cell_type": "code",
   "execution_count": 14,
   "metadata": {},
   "outputs": [
    {
     "name": "stdout",
     "output_type": "stream",
     "text": [
      "Produto tvs nao encontrado no estoque.\n"
     ]
    }
   ],
   "source": [
    "produto = input('Informe o nome do produto.')\n",
    "\n",
    "if produto in produtos:\n",
    "    i = produtos.index(produto)\n",
    "    qtd_estoque = estoque[i]\n",
    "    print(f'A quantidade de {produtos[i]} no estoque é de {estoque[i]}')\n",
    "else:\n",
    "    print(f'Produto {produto} nao encontrado no estoque.')"
   ]
  },
  {
   "cell_type": "markdown",
   "metadata": {},
   "source": [
    "### Parte 2 Adicionar e Remover itens de uma lista"
   ]
  },
  {
   "cell_type": "code",
   "execution_count": 18,
   "metadata": {},
   "outputs": [
    {
     "name": "stdout",
     "output_type": "stream",
     "text": [
      "['apple watch', 'air pods', 'ipod']\n",
      "['apple watch', 'air pods', 'ipod', 'iphone 15']\n"
     ]
    }
   ],
   "source": [
    "produtos2 = ['apple watch', 'iphone 14', 'air pods', 'ipod']\n",
    "\n",
    "produto_remove2 = input('Item que sera removido')\n",
    "\n",
    "if produto_remove2 in produtos2:\n",
    "    produtos2.remove(produto_remove2)\n",
    "    print(produtos2)\n",
    "else:\n",
    "    print('Produto nao encontrado.')\n",
    "\n",
    "produto_add2 = input('Produto que sera adicionado')    \n",
    "\n",
    "produtos2.append(produto_add2)\n",
    "print(produtos2)\n"
   ]
  },
  {
   "cell_type": "markdown",
   "metadata": {},
   "source": [
    "### Parte 3: Tratar erros"
   ]
  },
  {
   "cell_type": "code",
   "execution_count": 21,
   "metadata": {},
   "outputs": [
    {
     "name": "stdout",
     "output_type": "stream",
     "text": [
      "['air pods', 'ipod', 'iphone 15']\n"
     ]
    }
   ],
   "source": [
    "try:\n",
    "    produtos2.remove('apple watch')\n",
    "    print(produtos2)\n",
    "except:\n",
    "    print('applewatch nao existe na lista de produtos')"
   ]
  },
  {
   "cell_type": "markdown",
   "metadata": {},
   "source": [
    "### Parte 4: Exercicios"
   ]
  },
  {
   "cell_type": "markdown",
   "metadata": {},
   "source": [
    "## 1. Faturamento do melhor e do pior mês do ano\n",
    "Qual foi o valor de vendas do melhor mês do ano? E valor do pior mês do ano?"
   ]
  },
  {
   "cell_type": "code",
   "execution_count": 54,
   "metadata": {},
   "outputs": [
    {
     "name": "stdout",
     "output_type": "stream",
     "text": [
      "O melhor mês foi nov com 49051 vendas e o pior mês foi dez com 9650 vendas.\n",
      "O faturamento total foi de 261486\n",
      "O melhor mês representa 18.8%\n",
      "[49051, 29000, 25000]\n"
     ]
    }
   ],
   "source": [
    "meses = ['jan','fev','mar','abr','mai','jun','jul','ago','set','out','nov','dez']\n",
    "vendas_1sem = [25000, 29000, 22200, 17750, 15870, 19900]\n",
    "vendas_2sem = [19850, 20120, 17540, 15555, 49051, 9650]\n",
    "\n",
    "#Juntando os dois semestres\n",
    "vendas_ano = vendas_1sem + vendas_2sem\n",
    "\n",
    "#Melhor Mês\n",
    "valor_melhor_mes = max(vendas_ano)\n",
    "index_melhor_mes = vendas_ano.index(valor_melhor_mes)\n",
    "melhor_mes = meses[index_melhor_mes]\n",
    "\n",
    "#Pior Mês\n",
    "valor_pior_mes = min(vendas_ano)\n",
    "index_pior_mes = vendas_ano.index(valor_pior_mes)\n",
    "pior_mes = meses[index_pior_mes]\n",
    "\n",
    "print(f'O melhor mês foi {melhor_mes} com {valor_melhor_mes} vendas e o pior mês foi {pior_mes} com {valor_pior_mes} vendas.')\n",
    "\n",
    "#Faturamento Total\n",
    "faturamento_total = sum(vendas_ano)\n",
    "print(f'O faturamento total foi de {faturamento_total}')\n",
    "\n",
    "#Percentual\n",
    "percentual = valor_melhor_mes / faturamento_total\n",
    "print(f'O melhor mês representa {percentual:.1%}')\n",
    "#Lista com Top 3 valores de vendas\n",
    "vendas_ano.sort()\n",
    "top3 = []\n",
    "\n",
    "top3.append(vendas_ano.pop())\n",
    "top3.append(vendas_ano.pop())\n",
    "top3.append(vendas_ano.pop())\n",
    "\n",
    "print(top3)\n"
   ]
  }
 ],
 "metadata": {
  "kernelspec": {
   "display_name": ".venv",
   "language": "python",
   "name": "python3"
  },
  "language_info": {
   "codemirror_mode": {
    "name": "ipython",
    "version": 3
   },
   "file_extension": ".py",
   "mimetype": "text/x-python",
   "name": "python",
   "nbconvert_exporter": "python",
   "pygments_lexer": "ipython3",
   "version": "3.12.1"
  }
 },
 "nbformat": 4,
 "nbformat_minor": 2
}
