{
 "cells": [
  {
   "cell_type": "markdown",
   "metadata": {},
   "source": [
    "### PARTE 1"
   ]
  },
  {
   "cell_type": "code",
   "execution_count": 37,
   "metadata": {},
   "outputs": [
    {
     "name": "stdout",
     "output_type": "stream",
     "text": [
      "12345678919\n"
     ]
    }
   ],
   "source": [
    "cpf = input('Informe o CPF')\n",
    "\n",
    "if cpf:\n",
    "    if cpf.isnumeric() and len(cpf) == 11:\n",
    "        print(cpf)\n",
    "    else:\n",
    "        print('Digite seu CPF corretamente e apenas numeros')\n",
    "else:\n",
    "    print('Prencha o campo')"
   ]
  },
  {
   "cell_type": "markdown",
   "metadata": {},
   "source": [
    "### PARTE 2"
   ]
  },
  {
   "cell_type": "code",
   "execution_count": 43,
   "metadata": {},
   "outputs": [
    {
     "name": "stdout",
     "output_type": "stream",
     "text": [
      "Digite seu CPF corretamente e apenas numeros\n"
     ]
    }
   ],
   "source": [
    "#Tratar CPF\n",
    "\n",
    "#Remover espaços no inicio e no final\n",
    "#Remover . (pontos)\n",
    "#Remover - (traços)\n",
    "\n",
    "cpf = input('Informe o CPF')\n",
    "\n",
    "#Remoçao de pontos\n",
    "cpf = cpf.replace('.','')\n",
    "#Remoçao de traços\n",
    "cpf = cpf.replace('-','')\n",
    "#Remoçao de espaços\n",
    "cpf = cpf.strip()\n",
    "\n",
    "if cpf:\n",
    "    if cpf.isnumeric() and len(cpf) == 11:\n",
    "        print(cpf)\n",
    "    else:\n",
    "        print('Digite seu CPF corretamente e apenas numeros')\n",
    "else:\n",
    "    print('Prencha o campo')"
   ]
  }
 ],
 "metadata": {
  "kernelspec": {
   "display_name": ".venv",
   "language": "python",
   "name": "python3"
  },
  "language_info": {
   "codemirror_mode": {
    "name": "ipython",
    "version": 3
   },
   "file_extension": ".py",
   "mimetype": "text/x-python",
   "name": "python",
   "nbconvert_exporter": "python",
   "pygments_lexer": "ipython3",
   "version": "3.12.1"
  }
 },
 "nbformat": 4,
 "nbformat_minor": 2
}
