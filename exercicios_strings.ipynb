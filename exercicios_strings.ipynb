{
 "cells": [
  {
   "cell_type": "markdown",
   "metadata": {},
   "source": [
    "### PARTE 1"
   ]
  },
  {
   "cell_type": "code",
   "execution_count": 37,
   "metadata": {},
   "outputs": [
    {
     "name": "stdout",
     "output_type": "stream",
     "text": [
      "12345678919\n"
     ]
    }
   ],
   "source": [
    "cpf = input('Informe o CPF')\n",
    "\n",
    "if cpf:\n",
    "    if cpf.isnumeric() and len(cpf) == 11:\n",
    "        print(cpf)\n",
    "    else:\n",
    "        print('Digite seu CPF corretamente e apenas numeros')\n",
    "else:\n",
    "    print('Prencha o campo')"
   ]
  },
  {
   "cell_type": "markdown",
   "metadata": {},
   "source": [
    "### PARTE 2"
   ]
  },
  {
   "cell_type": "code",
   "execution_count": 43,
   "metadata": {},
   "outputs": [
    {
     "name": "stdout",
     "output_type": "stream",
     "text": [
      "Digite seu CPF corretamente e apenas numeros\n"
     ]
    }
   ],
   "source": [
    "#Tratar CPF\n",
    "\n",
    "#Remover espaços no inicio e no final\n",
    "#Remover . (pontos)\n",
    "#Remover - (traços)\n",
    "\n",
    "cpf = input('Informe o CPF')\n",
    "\n",
    "#Remoçao de pontos\n",
    "cpf = cpf.replace('.','')\n",
    "#Remoçao de traços\n",
    "cpf = cpf.replace('-','')\n",
    "#Remoçao de espaços\n",
    "cpf = cpf.strip()\n",
    "\n",
    "if cpf:\n",
    "    if cpf.isnumeric() and len(cpf) == 11:\n",
    "        print(cpf)\n",
    "    else:\n",
    "        print('Digite seu CPF corretamente e apenas numeros')\n",
    "else:\n",
    "    print('Prencha o campo')"
   ]
  },
  {
   "cell_type": "markdown",
   "metadata": {},
   "source": [
    "### Parte 3"
   ]
  },
  {
   "cell_type": "code",
   "execution_count": 27,
   "metadata": {},
   "outputs": [
    {
     "name": "stdout",
     "output_type": "stream",
     "text": [
      "Prencha os campos.\n"
     ]
    }
   ],
   "source": [
    "nome3 = input('Insira seu nome')\n",
    "email3 = input('Insira seu email')\n",
    "\n",
    "if nome3 and email3:\n",
    "    pos = email3.find('@')\n",
    "    servidor = email3[pos:]\n",
    "    if pos != -1 and '.' in servidor:\n",
    "        print('email valido')\n",
    "    else:\n",
    "        print('Seu email deve conter @ e .com')\n",
    "else:\n",
    "    print('Prencha os campos.')"
   ]
  }
 ],
 "metadata": {
  "kernelspec": {
   "display_name": ".venv",
   "language": "python",
   "name": "python3"
  },
  "language_info": {
   "codemirror_mode": {
    "name": "ipython",
    "version": 3
   },
   "file_extension": ".py",
   "mimetype": "text/x-python",
   "name": "python",
   "nbconvert_exporter": "python",
   "pygments_lexer": "ipython3",
   "version": "3.12.1"
  }
 },
 "nbformat": 4,
 "nbformat_minor": 2
}
